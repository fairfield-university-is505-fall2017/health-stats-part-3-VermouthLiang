{
 "cells": [
  {
   "cell_type": "markdown",
   "metadata": {},
   "source": [
    "# Health Stats Part 2: Waist 2 Hip Ratios"
   ]
  },
  {
   "cell_type": "markdown",
   "metadata": {},
   "source": [
    "<!--- Write an explanation of the Waist To Hips Ratio statistic used by health professionals. Please include an explanation of what it is used for, exactly how it is calculated, and how to interpret the results. Note: Formmatting matters. Make this as professional as you can using Markdown.  --->\n",
    "EDIT THIS MARKDOWN CELL"
   ]
  },
  {
   "cell_type": "markdown",
   "metadata": {},
   "source": [
    "## Source Data "
   ]
  },
  {
   "cell_type": "markdown",
   "metadata": {},
   "source": [
    "<!--- Replace the text below with a Markdown bullet list that defines the columns of the CSV file. Be sure to indicate the data type for each column. --->\n",
    "EDIT THIS MARKDOWN CELL"
   ]
  },
  {
   "cell_type": "markdown",
   "metadata": {},
   "source": [
    "## Data Import"
   ]
  },
  {
   "cell_type": "code",
   "execution_count": 16,
   "metadata": {
    "collapsed": false
   },
   "outputs": [],
   "source": [
    "# Goal: Extract the data from the file\n",
    "\n",
    "# opens the w2h_data.csv for reading\n",
    "f = open(\"w2h_data.csv\", \"r\")\n",
    "\n",
    "# loads the file into a list of strings, one string per line\n",
    "raw_lines = list(f)\n",
    "# closes the file\n",
    "f.close()"
   ]
  },
  {
   "cell_type": "code",
   "execution_count": 186,
   "metadata": {
    "collapsed": false
   },
   "outputs": [
    {
     "data": {
      "text/plain": [
       "array([(1, 30, 32, 'M'), (2, 32, 37, 'M'), (3, 30, 36, 'M'),\n",
       "       (4, 33, 39, 'M'), (5, 29, 33, 'M'), (6, 32, 38, 'M'),\n",
       "       (7, 33, 42, 'M'), (8, 30, 40, 'M'), (9, 30, 37, 'M'),\n",
       "       (10, 32, 39, 'M'), (11, 24, 35, 'F'), (12, 25, 37, 'F'),\n",
       "       (13, 24, 37, 'F'), (14, 22, 34, 'F'), (15, 26, 38, 'F'),\n",
       "       (16, 26, 37, 'F'), (17, 25, 38, 'F'), (18, 26, 37, 'F'),\n",
       "       (19, 28, 40, 'F'), (20, 23, 35, 'F')], \n",
       "      dtype=[('id', '<i4'), ('waist', '<i4'), ('hip', '<i4'), ('gender', '<U25')])"
      ]
     },
     "execution_count": 186,
     "metadata": {},
     "output_type": "execute_result"
    }
   ],
   "source": [
    "import numpy as np\n",
    "w2h = np.genfromtxt(\"w2h_data.csv\",skip_header=1,dtype=(int,int,int,\"U25\"),names=\"id,waist,hip,gender\",delimiter=\",\",autostrip=True)\n",
    "w2h"
   ]
  },
  {
   "cell_type": "code",
   "execution_count": 71,
   "metadata": {
    "collapsed": false
   },
   "outputs": [
    {
     "name": "stdout",
     "output_type": "stream",
     "text": [
      "neither a tuple or a list\n"
     ]
    }
   ],
   "source": [
    "if type(w2h) is list:\n",
    "    print ('a list')\n",
    "elif type(w2h) is tuple:\n",
    "    print ('a tuple')\n",
    "else:\n",
    "    print ('neither a tuple or a list')\n",
    "    "
   ]
  },
  {
   "cell_type": "code",
   "execution_count": 17,
   "metadata": {
    "collapsed": false
   },
   "outputs": [],
   "source": [
    "# Goal: Scrub and convert the data, loading it into a new list called rows\n",
    "\n",
    "# Strips out newline '\\n' characters and converts to a list\n",
    "#raw_rows = [r.rstrip('\\n').split(',') for r in raw_lines] # <--- Whoa. Why does this work? \n",
    "\n",
    "# Creates a new list, starting with just the column names\n",
    "#rows = list() \n",
    "\n",
    "# The first row is the keys wit the column names\n",
    "#keys = raw_rows[0];\n",
    "\n",
    "# Convert each row_row, starting with the second\n",
    "#for raw_row in raw_rows[1:]:\n",
    "    \n",
    "    # Note: the values in the raw_row list are all strings.\n",
    "    # Create a new list called row that converts each item in raw_row to the right data type  \n",
    "    #row = [int(raw_row[0]),int(raw_row[1]),int(raw_row[2]),raw_row[3]] # FIX THIS; you'll need to use conversion functions\n",
    "    \n",
    "    # structure the row as a dict \n",
    "    #record = dict(zip(keys,row))\n",
    "    \n",
    "    # Append the new row to the rows list as a dictionary\n",
    "    #rows.append(record)\n",
    "    \n",
    "    \n",
    "# from here on out use the rows list instead of raw_rows or raw_lines\n",
    "#print(rows)"
   ]
  },
  {
   "cell_type": "markdown",
   "metadata": {},
   "source": [
    "## Calculations"
   ]
  },
  {
   "cell_type": "code",
   "execution_count": 10,
   "metadata": {
    "collapsed": true
   },
   "outputs": [],
   "source": [
    "# Goal: For each row of data calculate and store the w2h_ratio and shape.\n",
    "\n",
    "\n",
    "# For each row in the rows list, calculate the waist to hips ratio and shape\n",
    "for row in rows:\n",
    "    # Calculate the w2h_ratio \n",
    "    w2h_ratio = row['Waist']/row['Hip'] # FIX THIS; you will need to take care about data types\n",
    "    \n",
    "    # Based on the ratio and the gender, set the variable shape to either 'apple' or 'pear'\n",
    "    #shape = 'Pear' # FIX THIS; you will need to use a conditional\n",
    "    if ((row['Gender']=='M' and w2h_ratio > 0.9) or (row['Gender'] == 'F' and w2h_ratio > 0.8)) :\n",
    "        shape = \"Apple\"\n",
    "    else:\n",
    "        shape = \"Pear\"\n",
    "    \n",
    "    # Add the new data to the end of the row\n",
    "    row[\"w2H_Ratio\"]=w2h_ratio\n",
    "    row[\"Shape\"] = shape\n",
    "    \n",
    "     "
   ]
  },
  {
   "cell_type": "code",
   "execution_count": 191,
   "metadata": {
    "collapsed": false
   },
   "outputs": [
    {
     "data": {
      "text/plain": [
       "array([(1, 30, 32, 'M', 0.938, 'Apple'), (2, 32, 37, 'M', 0.865, 'Pear'),\n",
       "       (3, 30, 36, 'M', 0.833, 'Pear'), (4, 33, 39, 'M', 0.846, 'Pear'),\n",
       "       (5, 29, 33, 'M', 0.879, 'Pear'), (6, 32, 38, 'M', 0.842, 'Pear'),\n",
       "       (7, 33, 42, 'M', 0.786, 'Pear'), (8, 30, 40, 'M', 0.75, 'Pear'),\n",
       "       (9, 30, 37, 'M', 0.811, 'Pear'), (10, 32, 39, 'M', 0.821, 'Pear'),\n",
       "       (11, 24, 35, 'F', 0.686, 'Pear'), (12, 25, 37, 'F', 0.676, 'Pear'),\n",
       "       (13, 24, 37, 'F', 0.649, 'Pear'), (14, 22, 34, 'F', 0.647, 'Pear'),\n",
       "       (15, 26, 38, 'F', 0.684, 'Pear'), (16, 26, 37, 'F', 0.703, 'Pear'),\n",
       "       (17, 25, 38, 'F', 0.658, 'Pear'), (18, 26, 37, 'F', 0.703, 'Pear'),\n",
       "       (19, 28, 40, 'F', 0.7, 'Pear'), (20, 23, 35, 'F', 0.657, 'Pear')], \n",
       "      dtype=[('id', '<i4'), ('waist', '<i4'), ('hip', '<i4'), ('gender', '<U25'), ('w2h_ratio', '<f8'), ('Shape', '<U25')])"
      ]
     },
     "execution_count": 191,
     "metadata": {},
     "output_type": "execute_result"
    }
   ],
   "source": [
    "w2h_new = np.dtype(w2h.dtype.descr + [('w2h_ratio', float),('Shape','U25')])\n",
    "w2h1 = np.zeros(w2h.shape, dtype=w2h_new)\n",
    "w2h1['id'] = w2h['id']\n",
    "w2h1['waist'] = w2h['waist']\n",
    "w2h1['hip']=w2h['hip']\n",
    "w2h1['gender']=w2h['gender']\n",
    "w2h_ratio = np.around(w2h['waist']/w2h['hip'],3)\n",
    "w2h1['w2h_ratio']=w2h_ratio\n",
    "#w2h1.dtype\n",
    "#x=np.logical_and(w2h1['gender']==b'M',w2h1['w2h_ratio'] >0.9)\n",
    "#y=np.logical_and(w2h1['gender']==b'F', w2h1['w2h_ratio']>0.8)\n",
    "#shape = np.where(np.logical_or(x,y),\"Apple\",\"Pear\")\n",
    "shape = np.where(np.logical_or(np.logical_and(w2h1['gender']=='M',w2h1['w2h_ratio'] >0.9),np.logical_and(w2h1['gender']=='F', w2h1['w2h_ratio']>0.8)),\"Apple\",\"Pear\")\n",
    "w2h1['Shape']=shape\n",
    "w2h1\n"
   ]
  },
  {
   "cell_type": "code",
   "execution_count": 196,
   "metadata": {
    "collapsed": false
   },
   "outputs": [
    {
     "data": {
      "text/plain": [
       "array([(1, 30, 32, 'M', 0.938, 'Apple'), (2, 32, 37, 'M', 0.865, 'Pear'),\n",
       "       (3, 30, 36, 'M', 0.833, 'Pear'), (4, 33, 39, 'M', 0.846, 'Pear'),\n",
       "       (5, 29, 33, 'M', 0.879, 'Pear'), (6, 32, 38, 'M', 0.842, 'Pear'),\n",
       "       (7, 33, 42, 'M', 0.786, 'Pear'), (8, 30, 40, 'M', 0.75, 'Pear'),\n",
       "       (9, 30, 37, 'M', 0.811, 'Pear'), (10, 32, 39, 'M', 0.821, 'Pear'),\n",
       "       (11, 24, 35, 'F', 0.686, 'Pear'), (12, 25, 37, 'F', 0.676, 'Pear'),\n",
       "       (13, 24, 37, 'F', 0.649, 'Pear'), (14, 22, 34, 'F', 0.647, 'Pear'),\n",
       "       (15, 26, 38, 'F', 0.684, 'Pear'), (16, 26, 37, 'F', 0.703, 'Pear'),\n",
       "       (17, 25, 38, 'F', 0.658, 'Pear'), (18, 26, 37, 'F', 0.703, 'Pear'),\n",
       "       (19, 28, 40, 'F', 0.7, 'Pear'), (20, 23, 35, 'F', 0.657, 'Pear')], \n",
       "      dtype=[('id', '<i4'), ('waist', '<i4'), ('hip', '<i4'), ('gender', '<U25'), ('w2h_ratio', '<f8'), ('Shape', '<U25')])"
      ]
     },
     "execution_count": 196,
     "metadata": {},
     "output_type": "execute_result"
    }
   ],
   "source": [
    "#for row in w2h1:\n",
    "    #np.savetxt(\"StatesResults.csv\", row, delimiter=',')\n",
    "\n",
    "np.savetxt(\"StatesResults.csv\", w2h1, fmt='%s', delimiter =',',header=','.join(w2h1.dtype.names),comments=\"\")\n",
    "w2h1[:]\n"
   ]
  },
  {
   "cell_type": "markdown",
   "metadata": {},
   "source": [
    "## Output"
   ]
  },
  {
   "cell_type": "code",
   "execution_count": 13,
   "metadata": {
    "collapsed": false
   },
   "outputs": [
    {
     "data": {
      "text/html": [
       "<table><tr><th>ID</th><th>Waist</th><th>Hip</th><th>Gender</th><th>w2H_Ratio</th><th>Shape</th></tr><tr><td>1</td><td>30</td><td>32</td><td>M</td><td>0.9375</td><td>Apple</td></tr><tr><td>2</td><td>32</td><td>37</td><td>M</td><td>0.8648648648648649</td><td>Pear</td></tr><tr><td>3</td><td>30</td><td>36</td><td>M</td><td>0.8333333333333334</td><td>Pear</td></tr><tr><td>4</td><td>33</td><td>39</td><td>M</td><td>0.8461538461538461</td><td>Pear</td></tr><tr><td>5</td><td>29</td><td>33</td><td>M</td><td>0.8787878787878788</td><td>Pear</td></tr><tr><td>6</td><td>32</td><td>38</td><td>M</td><td>0.8421052631578947</td><td>Pear</td></tr><tr><td>7</td><td>33</td><td>42</td><td>M</td><td>0.7857142857142857</td><td>Pear</td></tr><tr><td>8</td><td>30</td><td>40</td><td>M</td><td>0.75</td><td>Pear</td></tr><tr><td>9</td><td>30</td><td>37</td><td>M</td><td>0.8108108108108109</td><td>Pear</td></tr><tr><td>10</td><td>32</td><td>39</td><td>M</td><td>0.8205128205128205</td><td>Pear</td></tr><tr><td>11</td><td>24</td><td>35</td><td>F</td><td>0.6857142857142857</td><td>Pear</td></tr><tr><td>12</td><td>25</td><td>37</td><td>F</td><td>0.6756756756756757</td><td>Pear</td></tr><tr><td>13</td><td>24</td><td>37</td><td>F</td><td>0.6486486486486487</td><td>Pear</td></tr><tr><td>14</td><td>22</td><td>34</td><td>F</td><td>0.6470588235294118</td><td>Pear</td></tr><tr><td>15</td><td>26</td><td>38</td><td>F</td><td>0.6842105263157895</td><td>Pear</td></tr><tr><td>16</td><td>26</td><td>37</td><td>F</td><td>0.7027027027027027</td><td>Pear</td></tr><tr><td>17</td><td>25</td><td>38</td><td>F</td><td>0.6578947368421053</td><td>Pear</td></tr><tr><td>18</td><td>26</td><td>37</td><td>F</td><td>0.7027027027027027</td><td>Pear</td></tr><tr><td>19</td><td>28</td><td>40</td><td>F</td><td>0.7</td><td>Pear</td></tr><tr><td>20</td><td>23</td><td>35</td><td>F</td><td>0.6571428571428571</td><td>Pear</td></tr></table>"
      ],
      "text/plain": [
       "<IPython.core.display.HTML object>"
      ]
     },
     "metadata": {},
     "output_type": "display_data"
    }
   ],
   "source": [
    "# Goal: pretty print the rows as an HTML table\n",
    "\n",
    "# Note: this works, but we can do this much better with pandas\n",
    "html_table = '<table><tr><th>'\n",
    "html_table += \"</th><th>\".join(rows[0].keys())\n",
    "html_table += '</th></tr>'\n",
    "for row in rows:\n",
    "    html_table += \"<tr><td>\"\n",
    "    html_table += \"</td><td>\".join(str(v) for v in row.values())\n",
    "    html_table += \"</td></tr>\"\n",
    "html_table += \"</table>\"\n",
    "\n",
    "from IPython.display import HTML, display\n",
    "display(HTML(html_table))"
   ]
  },
  {
   "cell_type": "code",
   "execution_count": 173,
   "metadata": {
    "collapsed": false
   },
   "outputs": [
    {
     "data": {
      "text/plain": [
       "'a'"
      ]
     },
     "execution_count": 173,
     "metadata": {},
     "output_type": "execute_result"
    }
   ],
   "source": [
    "['a','b','c',('easy as','1','2','3')][3][0][1]"
   ]
  },
  {
   "cell_type": "code",
   "execution_count": 179,
   "metadata": {
    "collapsed": false
   },
   "outputs": [
    {
     "name": "stdout",
     "output_type": "stream",
     "text": [
      "2500\n"
     ]
    }
   ],
   "source": [
    "odd_sum = sum(i for i in range(1,100,2))\n",
    "print(odd_sum)"
   ]
  }
 ],
 "metadata": {
  "kernelspec": {
   "display_name": "Python 3",
   "language": "python",
   "name": "python3"
  },
  "language_info": {
   "codemirror_mode": {
    "name": "ipython",
    "version": 3
   },
   "file_extension": ".py",
   "mimetype": "text/x-python",
   "name": "python",
   "nbconvert_exporter": "python",
   "pygments_lexer": "ipython3",
   "version": "3.6.0"
  }
 },
 "nbformat": 4,
 "nbformat_minor": 2
}
